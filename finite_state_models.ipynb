{
 "cells": [
  {
   "cell_type": "code",
   "execution_count": 1,
   "metadata": {},
   "outputs": [],
   "source": [
    "import numpy as np\n",
    "import quantecon as qe\n",
    "import matplotlib.pyplot as plt\n",
    "from numpy.linalg import eigvals, solve\n",
    "%matplotlib inline"
   ]
  },
  {
   "cell_type": "markdown",
   "metadata": {},
   "source": [
    "# Risk Neutrality\n"
   ]
  },
  {
   "cell_type": "code",
   "execution_count": 2,
   "metadata": {},
   "outputs": [
    {
     "data": {
      "image/png": "[encoded data removed]",
      "text/plain": [
       "<Figure size 648x432 with 1 Axes>"
      ]
     },
     "metadata": {
      "needs_background": "light"
     },
     "output_type": "display_data"
    }
   ],
   "source": [
    "n = 50\n",
    "beta = 0.91\n",
    "mc = qe.tauchen(0.96, 0.02, n = n) \n",
    "\n",
    "K = mc.P * np.exp(mc.state_values)\n",
    "assert np.max(np.abs(eigvals(K))) < 1 / beta,  \"Spectral Condition not Satisfied\"\n",
    "\n",
    "v = solve(np.identity(n) - beta*K, beta * K @ np.ones((n, 1)))\n",
    "\n",
    "fig, ax = plt.subplots(figsize = (9, 6))\n",
    "ax.plot(mc.state_values, v)\n",
    "ax.set_xlabel(\"States\")\n",
    "ax.set_ylabel(\"Price-Dividend Ratio\")\n",
    "ax.set_title(\"Price-Dividend Ratio Across States\")\n",
    "plt.show()"
   ]
  },
  {
   "cell_type": "markdown",
   "metadata": {},
   "source": [
    "An increase in the state value increases (state is price), our p/d ratio goes up. This is because an increase in p means that the stream of future dividends (plus obviously, the agent also gets the dividend of this time period). therefore p > d."
   ]
  },
  {
   "cell_type": "markdown",
   "metadata": {},
   "source": [
    "# Risk Aversion (Lucas Tree)\n",
    "\n",
    "Utility function takes the form of the CRRA:\n",
    "\n",
    "\\begin{equation}\n",
    "u(d_t) = \\frac{d_{t}^{1 - \\gamma}}{1 - \\gamma}\n",
    "\\end{equation}\n",
    "\n",
    "Where $\\gamma$ is the relative risk aversion parameter and $d$ is the dividend received in that period\n",
    "\n",
    "In this formulation, we can get a stochastic discount factor of the form:\n",
    "\n",
    "\\begin{equation}\n",
    "m_{t+1} = \\beta \\frac{u'(d_{t+1})}{u'(d_t)}\n",
    "\\end{equation}"
   ]
  },
  {
   "cell_type": "code",
   "execution_count": 14,
   "metadata": {},
   "outputs": [
    {
     "ename": "SyntaxError",
     "evalue": "invalid syntax (<ipython-input-14-a82abe5d61f9>, line 16)",
     "output_type": "error",
     "traceback": [
      "\u001b[1;36m  File \u001b[1;32m\"<ipython-input-14-a82abe5d61f9>\"\u001b[1;36m, line \u001b[1;32m16\u001b[0m\n\u001b[1;33m    assert (np.max(np.abs(eigvals(J))) < 1 / self.beta) , \"Spectral Condition not Satisfied\"\u001b[0m\n\u001b[1;37m         ^\u001b[0m\n\u001b[1;31mSyntaxError\u001b[0m\u001b[1;31m:\u001b[0m invalid syntax\n"
     ]
    }
   ],
   "source": [
    "# This returns an error at line 15\n",
    "class lucastree:\n",
    "    \n",
    "    def __init__(self, beta = 0.96, gamma = 2.0, g = np.exp,  rho = 0.9, sigma = 0.02, n= 25):\n",
    "        \n",
    "        self.beta, self.gamma, self.g, self.n = beta, gamma, g, n\n",
    "        self.mc = qe.tauchen(rho, sigma, n = n)\n",
    "        \n",
    "    def compute_pd_ratio(self):\n",
    "        \n",
    "        # initializing J matrix\n",
    "        P = self.mc.P\n",
    "        J = P * self.g(self.mc.state_values**(1 - self.gamma)\n",
    "        \n",
    "        # testing stability\n",
    "        assert (np.max(np.abs(eigvals(J))) < 1 / self.beta) , \"Spectral Condition not Satisfied\"\n",
    "        \n",
    "        # solving\n",
    "        v = solve(np.identity(self.n) - self.beta*J, self.beta * J @ np.ones((self.n, 1)))\n",
    "        self.v, self.J = v, J\n",
    "        \n",
    "        return v\n",
    "        \n",
    "        "
   ]
  },
  {
   "cell_type": "code",
   "execution_count": null,
   "metadata": {},
   "outputs": [],
   "source": [
    "mdl = lucastree()"
   ]
  },
  {
   "cell_type": "code",
   "execution_count": null,
   "metadata": {},
   "outputs": [],
   "source": [
    "mdl.compute_pd_ratio()"
   ]
  },
  {
   "cell_type": "code",
   "execution_count": 12,
   "metadata": {},
   "outputs": [],
   "source": []
  },
  {
   "cell_type": "code",
   "execution_count": null,
   "metadata": {},
   "outputs": [],
   "source": []
  }
 ],
 "metadata": {
  "kernelspec": {
   "display_name": "Python 3",
   "language": "python",
   "name": "python3"
  },
  "language_info": {
   "codemirror_mode": {
    "name": "ipython",
    "version": 3
   },
   "file_extension": ".py",
   "mimetype": "text/x-python",
   "name": "python",
   "nbconvert_exporter": "python",
   "pygments_lexer": "ipython3",
   "version": "3.6.6"
  }
 },
 "nbformat": 4,
 "nbformat_minor": 2
}
